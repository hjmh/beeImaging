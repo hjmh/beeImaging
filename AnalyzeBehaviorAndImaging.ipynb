{
 "cells": [
  {
   "cell_type": "markdown",
   "metadata": {},
   "source": [
    "# Script for preprocessing of Tina's Calcium imaging data\n",
    "\n",
    "### Dependencies: matplotlib, scikit image, h5py, numpy, pyqtgraph (interactive plots of 3D stacks), roi (custom python class for drawing rois)\n",
    "\n",
    "### Overview of steps\n",
    "1. Import tiff stack\n",
    "2. Open using pyqtgraph (interactive browsing of data)\n",
    "3. Simple movement correction\n",
    "4. Extraction of time series from ROIs\n",
    "5. Some visualizations of ROI time series"
   ]
  },
  {
   "cell_type": "code",
   "execution_count": 2,
   "metadata": {},
   "outputs": [],
   "source": [
    "import matplotlib\n",
    "matplotlib.use('Qt5Agg')\n",
    "\n",
    "%gui qt"
   ]
  },
  {
   "cell_type": "code",
   "execution_count": 3,
   "metadata": {},
   "outputs": [
    {
     "name": "stdout",
     "output_type": "stream",
     "text": [
      "Warning: QApplication was created before pyqtgraph was imported; there may be problems (to avoid bugs, call QApplication.setGraphicsSystem(\"raster\") before the QApplication is created).\n"
     ]
    }
   ],
   "source": [
    "from skimage.io import imread, imshow\n",
    "import h5py\n",
    "from matplotlib import pyplot as plt\n",
    "from matplotlib.widgets import Button\n",
    "import numpy as np\n",
    "import pyqtgraph as pq\n",
    "from sys import path\n",
    "from os.path import sep, exists\n",
    "from os import mkdir, makedirs, getcwd"
   ]
  },
  {
   "cell_type": "code",
   "execution_count": 4,
   "metadata": {},
   "outputs": [],
   "source": [
    "# import custom roi module\n",
    "path.insert(1, getcwd() + sep + 'utils')\n",
    "\n",
    "from roiDrawing import roi"
   ]
  },
  {
   "cell_type": "markdown",
   "metadata": {},
   "source": [
    "### 0. Choose files to analyse"
   ]
  },
  {
   "cell_type": "code",
   "execution_count": 5,
   "metadata": {},
   "outputs": [],
   "source": [
    "parentDir = sep.join(getcwd().split(sep)[:-1])\n",
    "\n",
    "rawtiff = 'JF549-BAPTA_MPM/170920/170920_549_bar2ccw_00001.tif'\n",
    "\n",
    "rawh5 = 'JF549-BAPTA_MPM/170920/170920_bar2ccw_0001.h5'\n",
    "\n",
    "[dye, date, expt] = rawtiff.split(sep)\n",
    "plotDir = parentDir + sep + 'Plots'"
   ]
  },
  {
   "cell_type": "markdown",
   "metadata": {},
   "source": [
    "### 1. Import tiff stack\n",
    "\n",
    "#### Choose and import tiff file (imaging data)"
   ]
  },
  {
   "cell_type": "code",
   "execution_count": 43,
   "metadata": {},
   "outputs": [
    {
     "name": "stdout",
     "output_type": "stream",
     "text": [
      "b\"SI.VERSION_MAJOR = '2016b'\"\n",
      "b\"SI.VERSION_MINOR = '1'\"\n",
      "b'SI.hChannels.channelSave = 2'\n",
      "b'SI.hFastZ.numVolumes = 1'\n"
     ]
    }
   ],
   "source": [
    "with open(parentDir + sep + rawtiff, 'rb') as fh:\n",
    "    endofhead = 0 \n",
    "    \n",
    "    fpv = 1\n",
    "\n",
    "    while(not endofhead):\n",
    "        line = str(fh.readline()[:-1])\n",
    "        \n",
    "        # extract version\n",
    "        if 'VERSION_' in line:\n",
    "            print(line)\n",
    "            \n",
    "        # get channel info\n",
    "        if 'hChannels' in line:\n",
    "            if 'channelSave' in line:\n",
    "                print(line)\n",
    "                nCh = int(line[-2:-1])-1\n",
    "        \n",
    "        # get number of planes per z-stack\n",
    "        if 'hStackManager' in line:\n",
    "            if 'numFramesPerVolume' in line:\n",
    "                print(line)\n",
    "                fpv = int(line[-2:-1]) \n",
    "        if 'hFastZ' in line:\n",
    "            if 'numVolumes' in line:\n",
    "                print(line)\n",
    "    \n",
    "        if not 'SI' in line:\n",
    "            endofhead = 1"
   ]
  },
  {
   "cell_type": "code",
   "execution_count": 44,
   "metadata": {},
   "outputs": [
    {
     "name": "stdout",
     "output_type": "stream",
     "text": [
      "(1794, 512, 512)\n"
     ]
    }
   ],
   "source": [
    "rawstack = imread(parentDir + sep + rawtiff)\n",
    "stackshape = rawstack.shape\n",
    "print(stackshape)"
   ]
  },
  {
   "cell_type": "code",
   "execution_count": 45,
   "metadata": {},
   "outputs": [],
   "source": [
    "# Generate directory where to save plots\n",
    "saveDir = sep.join([plotDir,dye,date,expt[:-4]])\n",
    "if not exists(saveDir):\n",
    "    makedirs(saveDir)"
   ]
  },
  {
   "cell_type": "markdown",
   "metadata": {},
   "source": [
    "#### Adjust frame settings to match chosen file\n",
    "These are parameters that can not be retreaved from the file header"
   ]
  },
  {
   "cell_type": "code",
   "execution_count": 46,
   "metadata": {},
   "outputs": [
    {
     "name": "stdout",
     "output_type": "stream",
     "text": [
      "# frames: 1794\n",
      "# volumes: 1794.0\n"
     ]
    }
   ],
   "source": [
    "caCh = 0\n",
    "\n",
    "fps = 20 # check that with notes\n",
    "\n",
    "numimgs = int(stackshape[0])\n",
    "numVols = stackshape[0]/fpv\n",
    "print(\"# frames: \" + str(numimgs))\n",
    "print(\"# volumes: \" + str(numVols))"
   ]
  },
  {
   "cell_type": "markdown",
   "metadata": {},
   "source": [
    "#### Reshape tiff stack"
   ]
  },
  {
   "cell_type": "code",
   "execution_count": 47,
   "metadata": {},
   "outputs": [
    {
     "name": "stdout",
     "output_type": "stream",
     "text": [
      "Full dimensional stack: stack5d\n",
      "(1794, 1, 1, 512, 512)\n",
      "Stack reduced to one channel: stack4d\n",
      "(1794, 512, 512)\n"
     ]
    }
   ],
   "source": [
    "stack5d = rawstack.reshape((int(stackshape[0]/(fpv*nCh)),fpv,nCh,stackshape[1], stackshape[2]))\n",
    "print('Full dimensional stack: stack5d')\n",
    "print(stack5d.shape)\n",
    "\n",
    "print('Stack reduced to one channel: stack4d')\n",
    "stack4d = np.squeeze(stack5d[:,:,caCh,:,:])\n",
    "\n",
    "print(stack4d.shape)"
   ]
  },
  {
   "cell_type": "markdown",
   "metadata": {
    "collapsed": true
   },
   "source": [
    "### 2. Open with pyqt graph"
   ]
  },
  {
   "cell_type": "code",
   "execution_count": 48,
   "metadata": {},
   "outputs": [],
   "source": [
    "if fpv==1:\n",
    "    pq.image(stack4d.reshape(stack4d.shape[0], \n",
    "                             stack4d.shape[1],\n",
    "                             stack4d.shape[2]))\n",
    "else:\n",
    "    pq.image(stack4d.reshape(stack4d.shape[0], \n",
    "                             stack4d.shape[1] * stack4d.shape[2],\n",
    "                             stack4d.shape[3]))"
   ]
  },
  {
   "cell_type": "markdown",
   "metadata": {},
   "source": [
    "### Optional: Collapse volume using max projection"
   ]
  },
  {
   "cell_type": "code",
   "execution_count": 49,
   "metadata": {},
   "outputs": [],
   "source": [
    "if fpv > 1:\n",
    "    stackMP = stack4d.max(axis=1)\n",
    "    stackMP.shape\n",
    "\n",
    "    # Visualise new stack in pyqt graph:\n",
    "    pq.image(stackMP)\n",
    "else:\n",
    "    stackMP = rawstack"
   ]
  },
  {
   "cell_type": "code",
   "execution_count": 50,
   "metadata": {},
   "outputs": [],
   "source": [
    "# Use max projection?\n",
    "\n",
    "tiffstack = stackMP\n",
    "#tiffstack = rawstack\n",
    "\n",
    "numframes = tiffstack.shape[0]"
   ]
  },
  {
   "cell_type": "markdown",
   "metadata": {},
   "source": [
    "### 3. Simple movement correction\n",
    "#### Alignment to reference plane"
   ]
  },
  {
   "cell_type": "code",
   "execution_count": 51,
   "metadata": {},
   "outputs": [
    {
     "name": "stdout",
     "output_type": "stream",
     "text": [
      "reference frame: 1793\n"
     ]
    }
   ],
   "source": [
    "# pick reference frame, e.g. middle of last volume scanned.\n",
    "refframe = int(numframes-1)\n",
    "print('reference frame: ' + str(refframe))\n",
    "\n",
    "refimg = tiffstack[refframe]\n",
    "plt.imshow(refimg,cmap = 'Greys_r', vmin=0);\n",
    "plt.title('Reference frame')\n",
    "plt.show()"
   ]
  },
  {
   "cell_type": "code",
   "execution_count": 52,
   "metadata": {},
   "outputs": [],
   "source": [
    "# compute cross correlation between ref. image and all other images in tiff stack\n",
    "framecorr = np.zeros((numframes,1))\n",
    "\n",
    "for frame in range(numframes):\n",
    "    framecorr[frame] = np.corrcoef(tiffstack[frame].ravel(), refimg.ravel())[0,1]"
   ]
  },
  {
   "cell_type": "code",
   "execution_count": 53,
   "metadata": {},
   "outputs": [],
   "source": [
    "# Set threshold (min. correlation coefficient) for selection of frames\n",
    "corrTH = 0.7\n",
    "\n",
    "corrFig, ax = plt.subplots(1,1,figsize=(10,3))\n",
    "ax.plot(framecorr)\n",
    "ax.set_ylabel('correlation coeff.')\n",
    "ax.set_xlabel('frame')\n",
    "ax.set_title('person correlation with reference frame ('+str(refframe)+\n",
    "             '), threshold: '+str(corrTH)+\n",
    "             ' ('+str(round(100*int(sum(framecorr>corrTH))/numframes,2))+'%)')\n",
    "ax.axhline(y=corrTH, xmin=0, xmax=numframes, color='r')\n",
    "plt.show()\n",
    "plt.savefig(saveDir+sep+'stackCorr_'+expt[:-4]+'.pdf', format = 'pdf')"
   ]
  },
  {
   "cell_type": "code",
   "execution_count": 54,
   "metadata": {},
   "outputs": [],
   "source": [
    "# Select frames above threshold\n",
    "slct_numframes = int(sum(framecorr>corrTH))\n",
    "slct_tiffstack = np.zeros((slct_numframes,tiffstack.shape[1],tiffstack.shape[2]))\n",
    "for ind, frame in enumerate(np.where(framecorr>corrTH)[0]):\n",
    "    slct_tiffstack[ind] = tiffstack[frame]"
   ]
  },
  {
   "cell_type": "code",
   "execution_count": 55,
   "metadata": {},
   "outputs": [
    {
     "name": "stdout",
     "output_type": "stream",
     "text": [
      "(1794, 512, 512)\n"
     ]
    }
   ],
   "source": [
    "# Open in pyqtgraph\n",
    "pq.image(slct_tiffstack)\n",
    "print(slct_tiffstack.shape)\n",
    "plt.show()"
   ]
  },
  {
   "cell_type": "markdown",
   "metadata": {},
   "source": [
    "### 4. Extraction of time series from ROIs\n",
    "#### Draw ROI's"
   ]
  },
  {
   "cell_type": "code",
   "execution_count": 56,
   "metadata": {
    "scrolled": false
   },
   "outputs": [],
   "source": [
    "# Choose type of image for ROI drawing (std is default)\n",
    "imgtype = 'std'  # ['std', 'mean', 'median']\n",
    "\n",
    "# Interactive figure to draw ROIs (uses roi.py)\n",
    "fig, axs = plt.subplots(figsize=(10,6))\n",
    "if imgtype == 'mean':\n",
    "    sample = slct_tiffstack.mean(axis=0)\n",
    "elif imgtype =='median':\n",
    "    sample = np.median(slct_tiffstack,axis=0)\n",
    "else:\n",
    "    sample = slct_tiffstack.std(axis=0)\n",
    "    \n",
    "axs.imshow(sample, cmap='gray')\n",
    "drawing = roi.RoiDrawing(axs, sample)\n",
    "ax_butt = plt.axes([0.1, 0.15, 0.1, 0.075])\n",
    "wipe_butt = Button(ax_butt, 'Wipe')\n",
    "wipe_butt.on_clicked(drawing.wipe)\n",
    "\n",
    "ax_decr = plt.axes([.1, .25, .1, .075])\n",
    "decr_button = Button(ax_decr, 'Prev ROI')\n",
    "decr_button.on_clicked(drawing.focus_decr)\n",
    "\n",
    "ax_incr = plt.axes([.1, .35, .1, .075])\n",
    "incr_button = Button(ax_incr, 'Next ROI')\n",
    "incr_button.on_clicked(drawing.focus_incr)\n",
    "\n",
    "plt.show()"
   ]
  },
  {
   "cell_type": "code",
   "execution_count": 57,
   "metadata": {},
   "outputs": [],
   "source": [
    "# Save image of ROIs after drawing them\n",
    "fig.savefig(saveDir+sep+'rois_'+expt[:-4]+'.pdf', format = 'pdf')"
   ]
  },
  {
   "cell_type": "code",
   "execution_count": 58,
   "metadata": {},
   "outputs": [],
   "source": [
    "# Visualize drawn ROIs\n",
    "fig, axs = plt.subplots(nrows=1,ncols=len(drawing.rois), figsize=(3*len(drawing.rois),4))\n",
    "for ind, r in enumerate(drawing.rois):\n",
    "    axs[ind].imshow(r.get_mask())\n",
    "    axs[ind].set_title('roi' + str(ind))\n",
    "    \n",
    "plt.show()\n",
    "fig.savefig(saveDir+sep+'rois2_'+expt[:-4]+'.pdf', format = 'pdf')"
   ]
  },
  {
   "cell_type": "code",
   "execution_count": 59,
   "metadata": {},
   "outputs": [],
   "source": [
    "# Save time series\n",
    "roiTS = np.nan*np.ones((slct_numframes,len(drawing.rois)))\n",
    "\n",
    "for i, r in enumerate(drawing.rois):\n",
    "    coords = np.where(r.get_mask())\n",
    "    roiTS[:,i] = slct_tiffstack[:,coords[0], coords[1]].mean(1)\n",
    "\n",
    "np.save(saveDir+sep+'rois_'+expt[:-4],roiTS) # save as npy file (easy to load into pyton)\n",
    "np.savetxt(saveDir+sep+'rois_'+expt[:-4]+'.csv',roiTS, delimiter=',') # save as csv (easy to open e.g. in excel)"
   ]
  },
  {
   "cell_type": "markdown",
   "metadata": {},
   "source": [
    "### 5. Some visualizations of ROI time series\n",
    "#### Plot time series of chosen ROIs"
   ]
  },
  {
   "cell_type": "code",
   "execution_count": 60,
   "metadata": {},
   "outputs": [],
   "source": [
    "# Select frame range for time series plot\n",
    "ts = 10\n",
    "te = slct_numframes\n",
    "\n",
    "# generate time vector\n",
    "time = np.linspace(ts/fps, te/fps, (te-ts))"
   ]
  },
  {
   "cell_type": "code",
   "execution_count": 61,
   "metadata": {},
   "outputs": [],
   "source": [
    "# Make time series plot\n",
    "fig, axs = plt.subplots(figsize=(10,4))\n",
    "\n",
    "for r in drawing.rois:\n",
    "    coords = np.where(r.get_mask())\n",
    "    \n",
    "    bl = slct_tiffstack[ts:te,coords[0], coords[1]].mean(1).mean(0)\n",
    "    axs.plot(time, (slct_tiffstack[ts:te,coords[0], coords[1]].mean(1)-bl)/bl, '.-')\n",
    "plt.show()\n",
    "axs.legend(['ROI '+str(i+1) for i in range(len(drawing.rois))], fontsize=12)\n",
    "axs.set_xlabel('Time [s]', fontsize=13)\n",
    "axs.set_ylabel('$(F - F_0) / F_0$', fontsize=13);"
   ]
  },
  {
   "cell_type": "code",
   "execution_count": 62,
   "metadata": {},
   "outputs": [],
   "source": [
    "# Save after making adjustments through figure window GUI\n",
    "fig.savefig(saveDir+sep+'roi-traces_'+expt[:-4]+'.pdf', format = 'pdf')"
   ]
  },
  {
   "cell_type": "markdown",
   "metadata": {},
   "source": [
    "## Process h5 file (behavior, trigger pulses)\n",
    "### Set experimental parameter"
   ]
  },
  {
   "cell_type": "code",
   "execution_count": 111,
   "metadata": {},
   "outputs": [],
   "source": [
    "tmParams = {\n",
    "    'px2mm': 0.03,\n",
    "    'calibParam':(1.5, 1.5),\n",
    "    'rBall':48, #mm\n",
    "    'tickLength': 0.002, #s\n",
    "    'tickAmp':0.2 #V\n",
    "}\n",
    "arenaSize = 270 # degrees\n",
    "\n",
    "trialS = 120\n",
    "\n",
    "wsParams = {\n",
    "    'fps': 20000,\n",
    "    'channelNames': ['x1','x2','y1','y2','arena','unknown','RearCamFramClockchannel','TwoPFrameClockchannel'],\n",
    "    'Offsets': [2.05, 2.04, 2.05, 2.05] #Offsets of X0,X1,Y0,Y1 tick channels\n",
    "}\n",
    "\n",
    "# You can check chanel names using list(myh5['header']['AIChannelNames'])"
   ]
  },
  {
   "cell_type": "markdown",
   "metadata": {
    "collapsed": true
   },
   "source": [
    "### Load file"
   ]
  },
  {
   "cell_type": "code",
   "execution_count": 7,
   "metadata": {},
   "outputs": [
    {
     "name": "stdout",
     "output_type": "stream",
     "text": [
      "['header', 'sweep_0001']\n"
     ]
    }
   ],
   "source": [
    "myh5 = h5py.File(parentDir + sep + rawh5, 'r')\n",
    "h5keys = [name for name in myh5]\n",
    "\n",
    "print(h5keys)"
   ]
  },
  {
   "cell_type": "code",
   "execution_count": 8,
   "metadata": {},
   "outputs": [],
   "source": [
    "# Select sweep\n",
    "sweepInd = 1\n",
    "\n",
    "#for name in myh5[h5keys[sweepInd]]:\n",
    "#    print(name)\n",
    "    \n",
    "sweepkey = h5keys[sweepInd]\n",
    "sweepdat = list(myh5[h5keys[sweepInd]]['analogScans'])"
   ]
  },
  {
   "cell_type": "code",
   "execution_count": 79,
   "metadata": {},
   "outputs": [
    {
     "name": "stdout",
     "output_type": "stream",
     "text": [
      "[0.00036112387879333203, 0.00032877755951857268, -3.2766974414957873e-14, 2.2555316988730738e-18]\n"
     ]
    }
   ],
   "source": [
    "scalingCoeffs = list(myh5['header']['Acquisition']['AnalogScalingCoefficients'][0])\n",
    "print(scalingCoeffs)"
   ]
  },
  {
   "cell_type": "markdown",
   "metadata": {},
   "source": [
    "### Quick visual check of the recording"
   ]
  },
  {
   "cell_type": "code",
   "execution_count": 81,
   "metadata": {
    "scrolled": false
   },
   "outputs": [],
   "source": [
    "channelFig = plt.figure(figsize=(10,10))\n",
    "\n",
    "tS = int(14*wsParams['fps'])\n",
    "tE = int(15*wsParams['fps'])\n",
    "\n",
    "\n",
    "for t in range(len(sweepdat)):\n",
    "    ax = channelFig.add_subplot(len(sweepdat),1,t+1)\n",
    "    ax.plot(sweepdat[t][tS:tE]*scalingCoeffs[0],'.-')\n",
    "plt.show()\n",
    "\n",
    "channelHistFig = plt.figure(figsize=(15,2))\n",
    "\n",
    "tS = 0\n",
    "tE = -1\n",
    "\n",
    "for t in range(len(sweepdat)):\n",
    "    ax = channelHistFig.add_subplot(1,len(sweepdat),t+1)\n",
    "    ax.hist(sweepdat[t][tS:tE]*scalingCoeffs[0], bins=50)\n",
    "\n",
    "channelHistFig.tight_layout()\n",
    "plt.show()"
   ]
  },
  {
   "cell_type": "markdown",
   "metadata": {},
   "source": [
    "### Extract and process treadmill measurements"
   ]
  },
  {
   "cell_type": "code",
   "execution_count": 82,
   "metadata": {},
   "outputs": [],
   "source": [
    "# Store treadmill values in dict\n",
    "tm_raw = {}\n",
    "for ch in range(4):\n",
    "    tm_raw[wsParams['channelNames'][ch]] = sweepdat[ch]*scalingCoeffs[0]\n",
    "\n",
    "# extract arena position\n",
    "arena_raw = sweepdat[4]\n",
    "\n",
    "# rescale arena signal\n",
    "arena = arenaSize*(arena_raw - 0.5*np.max(arena_raw))/np.max(arena_raw)"
   ]
  },
  {
   "cell_type": "code",
   "execution_count": 141,
   "metadata": {},
   "outputs": [],
   "source": [
    "def processTMSignals(rawtmsignal, tmParams, wsParams):\n",
    "    tmchan = tm_raw.keys()\n",
    "    tmticks= {} # new dict for digitizes values\n",
    "    \n",
    "    maxTicks = 3\n",
    "    \n",
    "    for i, ch in enumerate(tmchan):\n",
    "        chfilt = mysmooth(rawtmsignal[ch]-np.median(rawtmsignal[ch]),int(wsParams['fps']*tmParams['tickLength']))\n",
    "        chquant = quantizeTicks(chfilt, maxTicks, tmParams['tickAmp'])\n",
    "        \n",
    "        tmticks[ch] = chquant\n",
    "        \n",
    "    return tmticks\n",
    "\n",
    "def mysmooth(y, box_pts):\n",
    "    box = np.ones(box_pts)/box_pts\n",
    "    y_smooth = np.convolve(y, box, mode='same')\n",
    "    return y_smooth\n",
    "\n",
    "def quantizeTicks(y, maxTicks, tickAmp):\n",
    "    yq = y.copy()\n",
    "    digBins = np.linspace(-maxTicks, maxTicks,2*maxTicks+1)*tickAmp*0.7-(tickAmp*0.7)/2.0\n",
    "    yq = np.digitize(y, digBins)\n",
    "    yq = (yq - (maxTicks+1))\n",
    "    return yq"
   ]
  },
  {
   "cell_type": "code",
   "execution_count": 142,
   "metadata": {},
   "outputs": [],
   "source": [
    "tm_ticks = processTMSignals(tm_raw, tmParams, wsParams)"
   ]
  },
  {
   "cell_type": "code",
   "execution_count": 149,
   "metadata": {},
   "outputs": [],
   "source": [
    "sweepFig, (ax1, ax2) = plt.subplots(1,2,figsize=(10,4))\n",
    "for i, k in enumerate(tm_raw.keys()):\n",
    "    ax1.hist(tm_raw[k], 100, alpha=0.25); \n",
    "for i, k in enumerate(tm_ticks.keys()):\n",
    "    ax2.hist(tm_ticks[k], 100, alpha=0.25); \n",
    "plt.show()"
   ]
  },
  {
   "cell_type": "code",
   "execution_count": null,
   "metadata": {},
   "outputs": [],
   "source": []
  },
  {
   "cell_type": "code",
   "execution_count": null,
   "metadata": {},
   "outputs": [],
   "source": []
  },
  {
   "cell_type": "code",
   "execution_count": null,
   "metadata": {},
   "outputs": [],
   "source": []
  },
  {
   "cell_type": "code",
   "execution_count": 187,
   "metadata": {},
   "outputs": [],
   "source": [
    "conversionFactor_pitch = px2mm*float(calibParam[0])\n",
    "conversionFactor_yaw = px2mm*float(calibParam[1])\n",
    "\n",
    "gammaRad = 45*np.pi/180.0\n",
    "\n",
    "time = np.linspace(0, trialS, len(x1_dig)+1)\n",
    "\n",
    "fps_ds = 500\n",
    "time_ds = np.linspace(0, time[-2], fps_ds*trialS)\n",
    "\n",
    "# compute virtual rotation of fly\n",
    "vFwd = - (y1_dig + y2_dig) * np.cos(gammaRad); #add components along longitudinal axis\n",
    "vSide = - (y1_dig - y2_dig) * np.sin(gammaRad); #add components along transversal axis\n",
    "vRot = - (x1_dig + x2_dig)/2 #average measured displacement along aximuth\n",
    "\n",
    "# convert A.U. --> pixel --> mm\n",
    "vFwd = vFwd * conversionFactor_pitch # use scaling factor for pitch\n",
    "vSide = vSide * 0.5*(conversionFactor_yaw + conversionFactor_pitch) #use mean\n",
    "vRot = vRot * conversionFactor_yaw # use scaling factor for yaw\n",
    "\n",
    "# downsample through linear interpolation\n",
    "from scipy.interpolate import interp1d\n",
    "\n",
    "f_vFwd = interp1d(time[:-1], vFwd, kind = 'linear')\n",
    "f_vSide = interp1d(time[:-1], vSide, kind = 'linear')\n",
    "f_vRot = interp1d(time[:-1], vRot, kind = 'linear')\n",
    "f_arena = interp1d(time[:-1], arena, kind = 'linear')\n",
    "\n",
    "vFwd_ds = f_vFwd(time_ds)\n",
    "vSide_ds = f_vSide(time_ds)\n",
    "vRot_ds = f_vRot(time_ds)\n",
    "arena_ds = f_arena(time_ds)\n",
    "\n",
    "# convert to mm/s\n",
    "dt = np.hstack((np.diff(time_ds),np.mean(np.diff(time_ds)) ))\n",
    "vFwd_ds = vFwd_ds / dt\n",
    "vSide_ds = vSide_ds / dt\n",
    "vRot_ds =  vRot_ds / dt\n",
    "\n",
    "rotV = vRot_ds / rBall #mm/s to deg/s"
   ]
  },
  {
   "cell_type": "code",
   "execution_count": 188,
   "metadata": {},
   "outputs": [],
   "source": [
    "yawFig, (ax1, ax2) = plt.subplots(2,1,figsize=(12,5))\n",
    "ax1.plot(time_ds, arena_ds, 'k.', markersize=1)\n",
    "ax1.set_ylabel('arena pos [deg]')\n",
    "ax1.set_xlim(0,trialS)\n",
    "ax2.plot(time_ds, np.mod(np.cumsum(rotV*dt*180/np.pi)+180,360)-180,'.', markersize=1)\n",
    "ax2.set_ylabel('integrated rot. vel. [deg]')\n",
    "ax2.set_xlabel('time [s]')\n",
    "ax2.set_xlim(0,trialS)\n",
    "plt.show()"
   ]
  },
  {
   "cell_type": "code",
   "execution_count": 189,
   "metadata": {},
   "outputs": [],
   "source": [
    "# Assume initial position (0 0 0) = (x-coord, y-coord, theta): \n",
    "# --> fly in origin, aligned with x axis (head forward)\n",
    "# During measurement coordinate system is fly-centered, moves with fly.\n",
    "# Compute all changes along those axes by updating theta and\n",
    "# projecting the position changes onto the fixed coordinate system\n",
    "\n",
    "theta = np.cumsum(rotV * dt)\n",
    "theta = np.mod((theta + np.pi),2*np.pi) - np.pi\n",
    "\n",
    "# movement in x and y direction\n",
    "yTM_i = vSide_ds * np.cos(-theta) - vFwd_ds * np.sin(-theta) #compute increments x_i\n",
    "yTM = np.cumsum(yTM_i* dt) # integrate x_i to get path\n",
    "\n",
    "xTM_i = vSide_ds * np.sin(-theta) + vFwd_ds * np.cos(-theta)\n",
    "xTM = np.cumsum(xTM_i * dt)\n",
    "\n",
    "transV = np.hypot(xTM_i, yTM_i)"
   ]
  },
  {
   "cell_type": "markdown",
   "metadata": {},
   "source": [
    "### Downsample"
   ]
  },
  {
   "cell_type": "code",
   "execution_count": 190,
   "metadata": {},
   "outputs": [
    {
     "name": "stdout",
     "output_type": "stream",
     "text": [
      "1794\n",
      "60000\n"
     ]
    }
   ],
   "source": [
    "print(numframes)\n",
    "print(len(time_ds))"
   ]
  },
  {
   "cell_type": "code",
   "execution_count": 111,
   "metadata": {},
   "outputs": [
    {
     "data": {
      "text/plain": [
       "119.99991428571428"
      ]
     },
     "execution_count": 111,
     "metadata": {},
     "output_type": "execute_result"
    }
   ],
   "source": [
    "time_ds[-1]"
   ]
  },
  {
   "cell_type": "code",
   "execution_count": null,
   "metadata": {},
   "outputs": [],
   "source": []
  },
  {
   "cell_type": "code",
   "execution_count": 126,
   "metadata": {},
   "outputs": [
    {
     "name": "stdout",
     "output_type": "stream",
     "text": [
      "1.15\n"
     ]
    }
   ],
   "source": [
    "bh_samp = np.round(time_ds[-1]/numframes, decimals=2)\n",
    "print(bh_samp)"
   ]
  },
  {
   "cell_type": "code",
   "execution_count": 135,
   "metadata": {},
   "outputs": [],
   "source": [
    "time_dds = np.linspace(0, time[-2], numframes)#20*trialS)\n",
    "\n",
    "f_transV = interp1d(time_ds, transV, kind = 'linear')\n",
    "f_rotV = interp1d(time_ds, rotV, kind = 'linear')\n",
    "f_xTM = interp1d(time_ds, xTM, kind = 'linear')\n",
    "f_yTM = interp1d(time_ds, yTM, kind = 'linear')\n",
    "f_theta = interp1d(time_ds, theta, kind = 'linear')\n",
    "\n",
    "transV_dds = f_transV(time_dds)\n",
    "rotV_dds = f_rotV(time_dds)\n",
    "xTM_dds = f_xTM(time_dds)\n",
    "yTM_dds = f_yTM(time_dds)\n",
    "theta_dds = f_theta(time_dds)"
   ]
  },
  {
   "cell_type": "code",
   "execution_count": 136,
   "metadata": {},
   "outputs": [],
   "source": [
    "velFig, (ax1, ax2) = plt.subplots(2,1,figsize=(12,5))\n",
    "ax1.plot(time_dds, rotV_dds)\n",
    "ax1.set_ylabel('rotational vel. [mm/s]')\n",
    "ax1.set_xlim(0,trialS)\n",
    "\n",
    "ax2.plot(time_dds, transV_dds)\n",
    "ax2.set_ylabel('translational vel. [mm/s]')\n",
    "ax2.set_xlabel('time [s]')\n",
    "ax2.set_xlim(0,trialS)\n",
    "\n",
    "plt.show()\n",
    "\n",
    "velFig.savefig('walkingVel_ds'+str(100*bh_samp)+'_'+rawh5.split(sep)[-1][:-3]+'_sweep'+str(sweepnum)+'.pdf', format = 'pdf')"
   ]
  },
  {
   "cell_type": "code",
   "execution_count": 137,
   "metadata": {},
   "outputs": [],
   "source": [
    "traceplot = plt.figure(figsize = (10,10))\n",
    "ax = traceplot.add_subplot(111)\n",
    "sc = plt.scatter(xTM_dds, yTM_dds,s=5, c=theta_dds, vmin=-np.pi, vmax=np.pi, alpha=0.8, cmap = 'hsv')\n",
    "plt.colorbar(sc)\n",
    "plt.plot(xTM_dds[0], yTM_dds[0], color='black',marker='o')\n",
    "ax.set_aspect('equal')\n",
    "\n",
    "plt.show()\n",
    "\n",
    "traceplot.savefig('walkingTrace_ds'+str(100*bh_samp)+'_'+rawh5.split(sep)[-1][:-3]+'_sweep'+str(sweepnum)+'.pdf', format = 'pdf')"
   ]
  },
  {
   "cell_type": "code",
   "execution_count": 138,
   "metadata": {},
   "outputs": [],
   "source": [
    "fig, axs = plt.subplots(1,len(drawing.rois), figsize=(10,4))\n",
    "for ri, r in enumerate(drawing.rois[:]):\n",
    "        \n",
    "    coords = np.where(r.get_mask())\n",
    "\n",
    "    bl = data[:,coords[0], coords[1]].mean(1).mean(0)\n",
    "    roi = (data[:,coords[0], coords[1]].mean(1)-bl)/bl\n",
    "\n",
    "    axs[ri].plot(roi, transV_dds, '.', alpha=0.3, color='black')\n",
    "\n",
    "    axs[ri].set_xlabel(str(ri+1))\n",
    "    axs[ri].set_ylabel('vTrans')\n",
    "\n",
    "fig.tight_layout()\n",
    "plt.show()"
   ]
  },
  {
   "cell_type": "code",
   "execution_count": null,
   "metadata": {},
   "outputs": [],
   "source": []
  }
 ],
 "metadata": {
  "kernelspec": {
   "display_name": "Python 3",
   "language": "python",
   "name": "python3"
  },
  "language_info": {
   "codemirror_mode": {
    "name": "ipython",
    "version": 3
   },
   "file_extension": ".py",
   "mimetype": "text/x-python",
   "name": "python",
   "nbconvert_exporter": "python",
   "pygments_lexer": "ipython3",
   "version": "3.6.4"
  },
  "toc": {
   "nav_menu": {},
   "number_sections": true,
   "sideBar": true,
   "skip_h1_title": false,
   "title_cell": "Table of Contents",
   "title_sidebar": "Contents",
   "toc_cell": false,
   "toc_position": {},
   "toc_section_display": true,
   "toc_window_display": false
  }
 },
 "nbformat": 4,
 "nbformat_minor": 2
}
