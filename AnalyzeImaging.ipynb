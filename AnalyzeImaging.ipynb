{
 "cells": [
  {
   "cell_type": "markdown",
   "metadata": {},
   "source": [
    "# Script for preprocessing of Tina's Calcium imaging data\n",
    "\n",
    "### Dependencies: matplotlib, scikit image, h5py, numpy, pyqtgraph (interactive plots of 3D stacks), roi (custom python class for drawing rois)\n",
    "\n",
    "### Overview of steps\n",
    "1. Import tiff stack\n",
    "2. Open using pyqtgraph (interactive browsing of data)\n",
    "3. Simple movement correction\n",
    "4. Extraction of time series from ROIs\n",
    "5. Some visualizations of ROI time series"
   ]
  },
  {
   "cell_type": "code",
   "execution_count": 170,
   "metadata": {},
   "outputs": [],
   "source": [
    "import matplotlib\n",
    "matplotlib.use('Qt5Agg')\n",
    "\n",
    "%gui qt"
   ]
  },
  {
   "cell_type": "code",
   "execution_count": 171,
   "metadata": {},
   "outputs": [],
   "source": [
    "from skimage.io import imread, imshow\n",
    "import h5py\n",
    "from matplotlib import pyplot as plt\n",
    "from matplotlib.widgets import Button\n",
    "import numpy as np\n",
    "import pyqtgraph as pq\n",
    "from sys import path\n",
    "from os.path import sep, exists\n",
    "from os import mkdir, makedirs, getcwd"
   ]
  },
  {
   "cell_type": "code",
   "execution_count": 172,
   "metadata": {},
   "outputs": [],
   "source": [
    "# import custom roi module\n",
    "path.insert(1, getcwd() + sep + 'utils')\n",
    "\n",
    "from roiDrawing import roi\n",
    "\n",
    "from roiVisualization import illustrateRois"
   ]
  },
  {
   "cell_type": "markdown",
   "metadata": {},
   "source": [
    "### 1. Import tiff stack\n",
    "\n",
    "#### Choose and import tiff file (imaging data) and generate directory for storing analysis plots"
   ]
  },
  {
   "cell_type": "code",
   "execution_count": 173,
   "metadata": {},
   "outputs": [],
   "source": [
    "parentDir = sep.join(getcwd().split(sep)[:-1])\n",
    "\n",
    "rawtiff = 'JF549-BAPTA_MPM/170920/170920_549_whitenoise3cw_00001.tif'\n",
    "[dye, date, expt] = rawtiff.split(sep)\n",
    "plotDir = parentDir + sep + 'Plots'"
   ]
  },
  {
   "cell_type": "code",
   "execution_count": 174,
   "metadata": {},
   "outputs": [
    {
     "name": "stdout",
     "output_type": "stream",
     "text": [
      "b\"SI.VERSION_MAJOR = '2016b'\"\n",
      "b\"SI.VERSION_MINOR = '1'\"\n",
      "b'SI.hChannels.channelSave = 2'\n",
      "b'SI.hFastZ.numVolumes = 1'\n"
     ]
    }
   ],
   "source": [
    "with open(parentDir + sep + rawtiff, 'rb') as fh:\n",
    "    endofhead = 0 \n",
    "    fpv = -1\n",
    "    numVols = -1\n",
    "    \n",
    "    while(not endofhead):\n",
    "        line = str(fh.readline()[:-1])\n",
    "        \n",
    "        # extract version\n",
    "        if 'VERSION_' in line:\n",
    "            print(line)\n",
    "            \n",
    "        # get channel info\n",
    "        if 'hChannels' in line:\n",
    "            if 'channelSave' in line:\n",
    "                print(line)\n",
    "                nCh = int(line[-2:-1])-1\n",
    "        \n",
    "        # get number of planes per z-stack\n",
    "        if 'hStackManager' in line:\n",
    "            if 'numFramesPerVolume' in line:\n",
    "                print(line)\n",
    "                fpv = int(line[-2:-1]) \n",
    "        if 'hFastZ' in line:\n",
    "            if 'numVolumes' in line:\n",
    "                print(line)\n",
    "                lineString = str(line)\n",
    "                numVols = int(lineString[lineString.find('=')+1:-1])\n",
    "    \n",
    "        if not 'SI' in line:\n",
    "            endofhead = 1"
   ]
  },
  {
   "cell_type": "code",
   "execution_count": 175,
   "metadata": {},
   "outputs": [
    {
     "name": "stdout",
     "output_type": "stream",
     "text": [
      "(1794, 512, 512)\n"
     ]
    }
   ],
   "source": [
    "rawstack = imread(parentDir + sep + rawtiff)\n",
    "stackshape = rawstack.shape\n",
    "print(stackshape)"
   ]
  },
  {
   "cell_type": "code",
   "execution_count": 176,
   "metadata": {},
   "outputs": [],
   "source": [
    "# Generate directory where to save plots\n",
    "saveDir = sep.join([plotDir,dye,date,expt[:-4]])\n",
    "if not exists(saveDir):\n",
    "    makedirs(saveDir)"
   ]
  },
  {
   "cell_type": "markdown",
   "metadata": {},
   "source": [
    "#### Adjust frame settings to match chosen file\n",
    "These are parameters that can not be retreaved from the file header"
   ]
  },
  {
   "cell_type": "code",
   "execution_count": 177,
   "metadata": {},
   "outputs": [
    {
     "name": "stdout",
     "output_type": "stream",
     "text": [
      "# frames: 1794\n",
      "# volumes: 1794\n",
      "# frames per vol: 1\n"
     ]
    }
   ],
   "source": [
    "caCh = 0\n",
    "\n",
    "fps = 20 # check that with notes\n",
    "\n",
    "numimgs = int(stackshape[0])\n",
    "\n",
    "if not '_z_' in rawtiff:\n",
    "    fpv = 1\n",
    "    numVols = int(stackshape[0]/fpv)\n",
    "elif fpv <0:\n",
    "    fpv = int(stackshape[0]/numVols)\n",
    "\n",
    "\n",
    "print(\"# frames: \" + str(numimgs))\n",
    "print(\"# volumes: \" + str(numVols))\n",
    "print(\"# frames per vol: \" + str(fpv))"
   ]
  },
  {
   "cell_type": "markdown",
   "metadata": {},
   "source": [
    "#### Reshape tiff stack"
   ]
  },
  {
   "cell_type": "code",
   "execution_count": 178,
   "metadata": {},
   "outputs": [
    {
     "name": "stdout",
     "output_type": "stream",
     "text": [
      "Full dimensional stack: stack5d\n",
      "(1794, 1, 1, 512, 512)\n",
      "Stack reduced to one channel: stack4d\n",
      "(1794, 512, 512)\n"
     ]
    }
   ],
   "source": [
    "stack5d = rawstack.reshape((int(stackshape[0]/(fpv*nCh)),fpv,nCh,stackshape[1], stackshape[2]))\n",
    "print('Full dimensional stack: stack5d')\n",
    "print(stack5d.shape)\n",
    "\n",
    "print('Stack reduced to one channel: stack4d')\n",
    "stack4d = np.squeeze(stack5d[:,:,caCh,:,:])\n",
    "\n",
    "print(stack4d.shape)"
   ]
  },
  {
   "cell_type": "markdown",
   "metadata": {
    "collapsed": true
   },
   "source": [
    "### 2. Open with pyqt graph"
   ]
  },
  {
   "cell_type": "code",
   "execution_count": 179,
   "metadata": {},
   "outputs": [],
   "source": [
    "if fpv==1:\n",
    "    pq.image(stack4d.reshape(stack4d.shape[0], \n",
    "                             stack4d.shape[1],\n",
    "                             stack4d.shape[2]))\n",
    "else:\n",
    "    pq.image(stack4d.reshape(stack4d.shape[0], \n",
    "                             stack4d.shape[1] * stack4d.shape[2],\n",
    "                             stack4d.shape[3]))"
   ]
  },
  {
   "cell_type": "markdown",
   "metadata": {},
   "source": [
    "### Optional: Collapse volume using max projection"
   ]
  },
  {
   "cell_type": "code",
   "execution_count": 180,
   "metadata": {},
   "outputs": [],
   "source": [
    "if fpv>1:\n",
    "    stackMP = stack4d.max(axis=1)\n",
    "    stackMP.shape\n",
    "\n",
    "    # Visualise new stack in pyqt graph:\n",
    "    pq.image(stackMP)"
   ]
  },
  {
   "cell_type": "code",
   "execution_count": 181,
   "metadata": {},
   "outputs": [],
   "source": [
    "# Use max projection?\n",
    "if fpv>1:\n",
    "    tiffstack = stackMP\n",
    "else:\n",
    "    tiffstack = rawstack\n",
    "\n",
    "numframes = tiffstack.shape[0]"
   ]
  },
  {
   "cell_type": "markdown",
   "metadata": {},
   "source": [
    "### 3. Simple movement correction\n",
    "#### Alignment to reference plane"
   ]
  },
  {
   "cell_type": "code",
   "execution_count": 182,
   "metadata": {},
   "outputs": [
    {
     "name": "stdout",
     "output_type": "stream",
     "text": [
      "reference frame: 1793\n"
     ]
    }
   ],
   "source": [
    "# pick reference frame, e.g. middle of last volume scanned.\n",
    "refframe = int(numframes-1)\n",
    "print('reference frame: ' + str(refframe))\n",
    "\n",
    "refimg = tiffstack[refframe]\n",
    "plt.imshow(refimg,cmap = 'Greys_r', vmin=0);\n",
    "plt.title('Reference frame')\n",
    "plt.show()"
   ]
  },
  {
   "cell_type": "code",
   "execution_count": 183,
   "metadata": {},
   "outputs": [],
   "source": [
    "# compute cross correlation between ref. image and all other images in tiff stack\n",
    "framecorr = np.zeros((numframes,1))\n",
    "\n",
    "for frame in range(numframes):\n",
    "    framecorr[frame] = np.corrcoef(tiffstack[frame].ravel(), refimg.ravel())[0,1]"
   ]
  },
  {
   "cell_type": "code",
   "execution_count": 184,
   "metadata": {},
   "outputs": [],
   "source": [
    "# Set threshold (min. correlation coefficient) for selection of frames\n",
    "corrTH = 0.7\n",
    "\n",
    "corrFig, ax = plt.subplots(1,1,figsize=(10,3))\n",
    "ax.plot(framecorr)\n",
    "ax.set_ylabel('correlation coeff.')\n",
    "ax.set_xlabel('frame')\n",
    "ax.set_title('person correlation with reference frame ('+str(refframe)+\n",
    "             '), threshold: '+str(corrTH)+\n",
    "             ' ('+str(round(100*int(sum(framecorr>corrTH))/numframes,2))+'%)')\n",
    "ax.axhline(y=corrTH, xmin=0, xmax=numframes, color='r')\n",
    "plt.show()\n",
    "plt.savefig(saveDir+sep+'stackCorr_'+expt[:-4]+'.pdf', format = 'pdf')"
   ]
  },
  {
   "cell_type": "code",
   "execution_count": 185,
   "metadata": {},
   "outputs": [],
   "source": [
    "# Select frames above threshold\n",
    "slct_numframes = int(sum(framecorr>corrTH))\n",
    "slct_frames = (framecorr>corrTH).astype('int')\n",
    "slct_tiffstack = np.zeros((slct_numframes,tiffstack.shape[1],tiffstack.shape[2]))\n",
    "for ind, frame in enumerate(np.where(framecorr>corrTH)[0]):\n",
    "    slct_tiffstack[ind] = tiffstack[frame]"
   ]
  },
  {
   "cell_type": "code",
   "execution_count": 186,
   "metadata": {},
   "outputs": [
    {
     "name": "stdout",
     "output_type": "stream",
     "text": [
      "(1527, 512, 512)\n"
     ]
    }
   ],
   "source": [
    "# Open in pyqtgraph\n",
    "pq.image(slct_tiffstack)\n",
    "print(slct_tiffstack.shape)\n",
    "plt.show()"
   ]
  },
  {
   "cell_type": "markdown",
   "metadata": {},
   "source": [
    "### 4. Extraction of time series from ROIs\n",
    "#### Draw ROI's"
   ]
  },
  {
   "cell_type": "code",
   "execution_count": 187,
   "metadata": {
    "scrolled": false
   },
   "outputs": [],
   "source": [
    "# Choose type of image for ROI drawing (std is default)\n",
    "imgtype = 'std'  # ['std', 'mean', 'median']\n",
    "\n",
    "# Interactive figure to draw ROIs (uses roi.py)\n",
    "fig, axs = plt.subplots(figsize=(10,6))\n",
    "if imgtype == 'mean':\n",
    "    sample = slct_tiffstack.mean(axis=0)\n",
    "elif imgtype =='median':\n",
    "    sample = np.median(slct_tiffstack,axis=0)\n",
    "else:\n",
    "    sample = slct_tiffstack.std(axis=0)\n",
    "    \n",
    "axs.imshow(sample, cmap='gray')\n",
    "drawing = roi.RoiDrawing(axs, sample)\n",
    "ax_butt = plt.axes([0.1, 0.15, 0.1, 0.075])\n",
    "wipe_butt = Button(ax_butt, 'Wipe')\n",
    "wipe_butt.on_clicked(drawing.wipe)\n",
    "\n",
    "ax_decr = plt.axes([.1, .25, .1, .075])\n",
    "decr_button = Button(ax_decr, 'Prev ROI')\n",
    "decr_button.on_clicked(drawing.focus_decr)\n",
    "\n",
    "ax_incr = plt.axes([.1, .35, .1, .075])\n",
    "incr_button = Button(ax_incr, 'Next ROI')\n",
    "incr_button.on_clicked(drawing.focus_incr)\n",
    "\n",
    "plt.show()"
   ]
  },
  {
   "cell_type": "code",
   "execution_count": 190,
   "metadata": {},
   "outputs": [],
   "source": [
    "# Save image of ROIs after drawing them\n",
    "fig.savefig(saveDir+sep+'rois_'+expt[:-4]+'.pdf', format = 'pdf')"
   ]
  },
  {
   "cell_type": "markdown",
   "metadata": {},
   "source": [
    "#### Save ROI data to file"
   ]
  },
  {
   "cell_type": "code",
   "execution_count": 193,
   "metadata": {},
   "outputs": [],
   "source": [
    "# Generate dictionary with all ROI information -- assumes max projection, i.e. \n",
    "roiData = {\n",
    "    'imgData': rawtiff,\n",
    "    'img': sample,\n",
    "    'numframes': slct_numframes,\n",
    "    'slctframes': slct_frames,\n",
    "    'fpv': fpv\n",
    "}\n",
    "\n",
    "# Save time series\n",
    "roiTS = np.nan*np.ones((slct_numframes,len(drawing.rois)))\n",
    "roiShapes = []\n",
    "for i, r in enumerate(drawing.rois):\n",
    "    coords = np.where(r.get_mask())\n",
    "    roiTS[:,i] = slct_tiffstack[:,coords[0], coords[1]].mean(1)\n",
    "    roiShapes.append(np.where(r.get_mask()))\n",
    "\n",
    "roiData['numRoi'] = len(drawing.rois)\n",
    "roiData['roiTS'] = roiTS\n",
    "roiData['roiShapes'] = roiShapes\n",
    "\n",
    "np.save(saveDir+sep+'roiData_'+expt[:-4],roiData) # save as npy file (easy to load into pyton)\n",
    "np.savetxt(saveDir+sep+'roisTS_'+expt[:-4]+'.csv',roiTS, delimiter=',') # save as csv (easy to open e.g. in excel)"
   ]
  },
  {
   "cell_type": "markdown",
   "metadata": {},
   "source": [
    "### 5. Some visualizations of ROI time series\n",
    "#### Visualize chosen ROIs and plot time series"
   ]
  },
  {
   "cell_type": "code",
   "execution_count": 194,
   "metadata": {},
   "outputs": [],
   "source": [
    "roifig = illustrateRois(roiData)\n",
    "roifig.show()\n",
    "roifig.savefig(saveDir+sep+'roi-viz_'+expt[:-4]+'.pdf', format = 'pdf')"
   ]
  },
  {
   "cell_type": "code",
   "execution_count": 195,
   "metadata": {},
   "outputs": [],
   "source": [
    "# Select frame range for time series plot\n",
    "ts = 0\n",
    "te = slct_numframes\n",
    "\n",
    "# generate time vector\n",
    "time = np.linspace(ts/fps, te/fps, (te-ts))"
   ]
  },
  {
   "cell_type": "code",
   "execution_count": 196,
   "metadata": {},
   "outputs": [],
   "source": [
    "# Make time series plot\n",
    "fig, axs = plt.subplots(figsize=(10,4))\n",
    "\n",
    "for r in drawing.rois:\n",
    "    coords = np.where(r.get_mask())\n",
    "    \n",
    "    bl = slct_tiffstack[ts:te+1,coords[0], coords[1]].mean(1).mean(0)\n",
    "    axs.plot(time, (slct_tiffstack[ts:te+1,coords[0], coords[1]].mean(1)-bl)/bl, '.-')\n",
    "plt.show()\n",
    "axs.legend(['ROI '+str(i+1) for i in range(len(drawing.rois))], fontsize=12)\n",
    "axs.set_xlabel('Time [s]', fontsize=13)\n",
    "axs.set_ylabel('$(F - F_0) / F_0$', fontsize=13);"
   ]
  },
  {
   "cell_type": "code",
   "execution_count": 198,
   "metadata": {},
   "outputs": [],
   "source": [
    "# Save after making adjustments through figure window GUI\n",
    "fig.savefig(saveDir+sep+'roi-traces_'+expt[:-4]+'.pdf', format = 'pdf')"
   ]
  },
  {
   "cell_type": "markdown",
   "metadata": {},
   "source": [
    "#### Plot correlations between all selected ROIs"
   ]
  },
  {
   "cell_type": "code",
   "execution_count": 199,
   "metadata": {
    "scrolled": false
   },
   "outputs": [],
   "source": [
    "fig, axs = plt.subplots(len(drawing.rois),len(drawing.rois), figsize=(15,14))\n",
    "\n",
    "ts = 100\n",
    "te = slct_numframes\n",
    "\n",
    "for ri1, r1 in enumerate(drawing.rois[:]):\n",
    "    \n",
    "    coords1 = np.where(r1.get_mask())\n",
    "    bl1 = slct_tiffstack[ts:te+1,coords1[0], coords1[1]].mean(1).mean(0)\n",
    "    roi1 = (slct_tiffstack[ts:te+1,coords1[0], coords1[1]].mean(1)-bl1)/bl1\n",
    "\n",
    "    for ri2, r2 in enumerate(drawing.rois[:ri1+1]):\n",
    "        coords2 = np.where(r2.get_mask())\n",
    "                \n",
    "        bl2 = slct_tiffstack[ts:te+1,coords2[0], coords2[1]].mean(1).mean(0)\n",
    "        roi2 = (slct_tiffstack[ts:te+1,coords2[0], coords2[1]].mean(1)-bl2)/bl2\n",
    "    \n",
    "        axs[ri1,ri2].plot(roi2, roi1, '.', alpha=0.3, color='black')\n",
    "        \n",
    "        axs[ri1,ri2].set_xlabel('ROI '+str(ri2+1))\n",
    "        axs[ri1,ri2].set_ylabel('ROI '+str(ri1+1))\n",
    "        axs[ri1,ri2].set_xlim(min(roi2),max(roi2))\n",
    "        axs[ri1,ri2].set_ylim(min(roi1),max(roi1))\n",
    "        \n",
    "fig.tight_layout()\n",
    "plt.show()\n",
    "\n",
    "fig.savefig(saveDir+sep+'roi-corr_'+expt[:-4]+'.pdf', format = 'pdf')"
   ]
  },
  {
   "cell_type": "code",
   "execution_count": null,
   "metadata": {},
   "outputs": [],
   "source": []
  }
 ],
 "metadata": {
  "kernelspec": {
   "display_name": "Python 3",
   "language": "python",
   "name": "python3"
  },
  "language_info": {
   "codemirror_mode": {
    "name": "ipython",
    "version": 3
   },
   "file_extension": ".py",
   "mimetype": "text/x-python",
   "name": "python",
   "nbconvert_exporter": "python",
   "pygments_lexer": "ipython3",
   "version": "3.6.4"
  },
  "toc": {
   "nav_menu": {},
   "number_sections": true,
   "sideBar": true,
   "skip_h1_title": false,
   "title_cell": "Table of Contents",
   "title_sidebar": "Contents",
   "toc_cell": false,
   "toc_position": {},
   "toc_section_display": true,
   "toc_window_display": false
  }
 },
 "nbformat": 4,
 "nbformat_minor": 2
}
